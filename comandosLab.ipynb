{
 "cells": [
  {
   "cell_type": "markdown",
   "id": "093e7530",
   "metadata": {},
   "source": [
    "Consideraciones:\n",
    "\n",
    "1. Al pegar los comandos, asegurarse de que se copia en una \"sola línea\", o sino funciona mal.\n",
    "2. Al final de todos los comandos relacionados a Cassandra, es necesario colocar \";\", o sino el container no entiende."
   ]
  },
  {
   "cell_type": "markdown",
   "id": "b4de6124",
   "metadata": {},
   "source": [
    "Estos comandos son para ejecutar el docker-compose.yml en windows:"
   ]
  },
  {
   "cell_type": "code",
   "execution_count": null,
   "id": "3ff16ae9",
   "metadata": {},
   "outputs": [],
   "source": [
    "docker compose up -d --build"
   ]
  },
  {
   "cell_type": "markdown",
   "id": "12add07b",
   "metadata": {},
   "source": [
    "Si se desea parar o \"dar de baja\" los containers, tenemos los siguientes comandos de Docker:"
   ]
  },
  {
   "cell_type": "code",
   "execution_count": null,
   "id": "7afa3617",
   "metadata": {},
   "outputs": [],
   "source": [
    "docker compose stop <nodo> # El comando se usa para detener un contenedor en ejecución.\n",
    "docker compose start <nodo> # El comando se usa para iniciar un contenedor detenido.\n",
    "docker compose down # El comando se usa para detener y eliminar todos los contenedores y redes."
   ]
  },
  {
   "cell_type": "markdown",
   "id": "578ebaed",
   "metadata": {},
   "source": [
    "Para subir el dataset, se usa:"
   ]
  },
  {
   "cell_type": "code",
   "execution_count": null,
   "id": "924a14cf",
   "metadata": {},
   "outputs": [],
   "source": [
    "docker cp postulaciones.csv nodo1:/postulaciones.csv;"
   ]
  },
  {
   "cell_type": "markdown",
   "id": "9e19e930",
   "metadata": {},
   "source": [
    "Con esto, ya tenemos la parte de docker lista, luego, para ingresar a la consola de cassandra:"
   ]
  },
  {
   "cell_type": "code",
   "execution_count": null,
   "id": "a8e9c60e",
   "metadata": {},
   "outputs": [],
   "source": [
    "docker exec -it nodo1 cqlsh"
   ]
  },
  {
   "cell_type": "markdown",
   "id": "8ea33402",
   "metadata": {},
   "source": [
    "Creamos el cluster:"
   ]
  },
  {
   "cell_type": "code",
   "execution_count": null,
   "id": "022d6d82",
   "metadata": {},
   "outputs": [],
   "source": [
    "CREATE KEYSPACE lab1 WITH REPLICATION = { 'class' : 'SimpleStrategy', 'replication_factor' : 3 };"
   ]
  },
  {
   "cell_type": "markdown",
   "id": "4f7ca0d6",
   "metadata": {},
   "source": [
    "Para usar el keyspace:"
   ]
  },
  {
   "cell_type": "code",
   "execution_count": null,
   "id": "a620b178",
   "metadata": {},
   "outputs": [],
   "source": [
    "use lab1;"
   ]
  },
  {
   "cell_type": "markdown",
   "id": "bbfa512f",
   "metadata": {},
   "source": [
    "Ahora, se procede a crear la tabla de postulaciones:"
   ]
  },
  {
   "cell_type": "code",
   "execution_count": null,
   "id": "b5166b0f",
   "metadata": {},
   "outputs": [],
   "source": [
    "\n",
    "CREATE TABLE primera(\n",
    "    CEDULA text,\n",
    "    PERIODO int,\n",
    "    SEXO text,\n",
    "    PREFERENCIA int,\n",
    "    CARRERA text,\n",
    "    MATRICULADO text,            \n",
    "    FACULTAD text,\n",
    "    GRUPO_DEPEN text,\n",
    "    REGION text,\n",
    "    PACE text,               \n",
    "    GRATUIDAD text,\n",
    "    PUNTAJE int,\n",
    "    LATITUD float,           \n",
    "    LONGITUD float,          \n",
    "    PTJE_NEM int,\n",
    "    PSU_PROMLM int,\n",
    "    PRIMARY KEY ((CARRERA, MATRICULADO), PERIODO, CEDULA)\n",
    ");\n",
    "\n",
    "CREATE TABLE segunda(\n",
    "    CEDULA text,\n",
    "    PERIODO int,\n",
    "    SEXO text,\n",
    "    PREFERENCIA int,\n",
    "    CARRERA text,\n",
    "    MATRICULADO text,            \n",
    "    FACULTAD text,\n",
    "    GRUPO_DEPEN text,\n",
    "    REGION text,\n",
    "    PACE text,               \n",
    "    GRATUIDAD text,\n",
    "    PUNTAJE int,\n",
    "    LATITUD float,           \n",
    "    LONGITUD float,          \n",
    "    PTJE_NEM int,\n",
    "    PSU_PROMLM int,\n",
    "    PRIMARY KEY ((REGION, CARRERA, MATRICULADO), PERIODO, CEDULA)\n",
    ");\n",
    "\n",
    "CREATE TABLE tercera(\n",
    "    CEDULA text,\n",
    "    PERIODO int,\n",
    "    SEXO text,\n",
    "    PREFERENCIA int,\n",
    "    CARRERA text,\n",
    "    MATRICULADO text,            \n",
    "    FACULTAD text,\n",
    "    GRUPO_DEPEN text,\n",
    "    REGION text,\n",
    "    PACE text,               \n",
    "    GRATUIDAD text,\n",
    "    PUNTAJE int,\n",
    "    LATITUD float,           \n",
    "    LONGITUD float,          \n",
    "    PTJE_NEM int,\n",
    "    PSU_PROMLM int,\n",
    "    PRIMARY KEY ((FACULTAD, MATRICULADO), PSU_PROMLM, CEDULA)\n",
    ");   "
   ]
  },
  {
   "cell_type": "markdown",
   "id": "ce5f6e3a",
   "metadata": {},
   "source": [
    "Para poblar la tabla usamos (HAY QUE VER EL TEMA DEL DELIMETER):"
   ]
  },
  {
   "cell_type": "code",
   "execution_count": null,
   "id": "c41bef3e",
   "metadata": {},
   "outputs": [],
   "source": [
    "COPY primera_ff(CEDULA, PERIODO, SEXO, PREFERENCIA, CARRERA, MATRICULADO, FACULTAD, PUNTAJE, GRUPO_DEPEN, REGION, LATITUD, LONGITUD, PTJE_NEM, PSU_PROMLM, PACE, GRATUIDAD) \n",
    "FROM '/postulaciones.csv' WITH DELIMITER=',' AND HEADER=TRUE;\n",
    "\n",
    "COPY segunda(CEDULA, PERIODO, SEXO, PREFERENCIA, CARRERA, MATRICULADO, FACULTAD, PUNTAJE, GRUPO_DEPEN, REGION, LATITUD, LONGITUD, PTJE_NEM, PSU_PROMLM, PACE, GRATUIDAD) \n",
    "FROM '/postulaciones.csv' WITH DELIMITER=',' AND HEADER=TRUE;\n",
    "\n",
    "COPY tercera(CEDULA, PERIODO, SEXO, PREFERENCIA, CARRERA, MATRICULADO, FACULTAD, PUNTAJE, GRUPO_DEPEN, REGION, LATITUD, LONGITUD, PTJE_NEM, PSU_PROMLM, PACE, GRATUIDAD) \n",
    "FROM '/postulaciones.csv' WITH DELIMITER=',' AND HEADER=TRUE;\n"
   ]
  },
  {
   "cell_type": "markdown",
   "id": "cf098bfa",
   "metadata": {},
   "source": [
    "Ahora comenzamos a realizar las querys:"
   ]
  },
  {
   "cell_type": "code",
   "execution_count": null,
   "id": "528b6bc2",
   "metadata": {},
   "outputs": [],
   "source": [
    "# Query 1\n",
    "\n",
    "select * from primera where carrera = 'MEDICINA' and matriculado = 'SI';\n",
    "\n",
    "# Query 2\n",
    "\n",
    "select * from segunda where region = 'MAULE' and carrera = 'INGENIERÍA CIVIL INFORMÁTICA' and matriculado = 'SI';\n",
    "\n",
    "# Query 3\n",
    "\n",
    "select * from tercera where facultad = 'CIENCIAS DE LA SALUD' and matriculado = 'SI';"
   ]
  },
  {
   "cell_type": "markdown",
   "id": "6e325099",
   "metadata": {},
   "source": [
    "Para realizar la query en powerBI, se usan las siguientes sentencias:"
   ]
  },
  {
   "cell_type": "code",
   "execution_count": null,
   "id": "4a1c729b",
   "metadata": {},
   "outputs": [],
   "source": [
    "# Query 1\n",
    "\n",
    "select * from lab1.primera where carrera = 'MEDICINA' and matriculado = 'SI';\n",
    "\n",
    "# Query 2\n",
    "\n",
    "select * from lab1.segunda where region = 'MAULE' and carrera = 'INGENIERÍA CIVIL INFORMÁTICA' and matriculado = 'SI';\n",
    "\n",
    "# Query 3\n",
    "\n",
    "select * from lab1.tercera where facultad = 'CIENCIAS DE LA SALUD' and matriculado = 'SI';"
   ]
  }
 ],
 "metadata": {
  "language_info": {
   "name": "python"
  }
 },
 "nbformat": 4,
 "nbformat_minor": 5
}
