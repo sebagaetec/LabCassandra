{
 "cells": [
  {
   "cell_type": "markdown",
   "id": "b4de6124",
   "metadata": {},
   "source": [
    "Estos comandos son para ejecutar Cassandra en windows:"
   ]
  },
  {
   "cell_type": "code",
   "execution_count": null,
   "id": "3ff16ae9",
   "metadata": {},
   "outputs": [],
   "source": [
    "docker pull cassandra:latest\n",
    "docker network create cassandra_network\n",
    "docker run --name nodo1 --network cassandra_network -p 7001:9042 -d cassandra:latest\n",
    "docker run --name nodo2 --network cassandra_network -e CASSANDRA_SEEDS=nodo1 -p 7002:9042 -d cassandra:latest\n",
    "docker run --name nodo3 --network cassandra_network -e CASSANDRA_SEEDS=nodo1 -p 7003:9042 -d cassandra:latest"
   ]
  },
  {
   "cell_type": "markdown",
   "id": "9e19e930",
   "metadata": {},
   "source": [
    "Con esto, ya tenemos la parte de docker lista, luego, para ingresar a la consola de cassandra:"
   ]
  },
  {
   "cell_type": "code",
   "execution_count": null,
   "id": "a8e9c60e",
   "metadata": {},
   "outputs": [],
   "source": [
    "docker exec -it nodo1 cqlsh"
   ]
  },
  {
   "cell_type": "markdown",
   "id": "8ea33402",
   "metadata": {},
   "source": [
    "Creamos el cluster:"
   ]
  },
  {
   "cell_type": "code",
   "execution_count": null,
   "id": "022d6d82",
   "metadata": {},
   "outputs": [],
   "source": [
    "CREATE KEYSPACE lab1 WITH REPLICATION = { 'class' : 'SimpleStrategy', 'replication_factor' : 3 }"
   ]
  },
  {
   "cell_type": "markdown",
   "id": "4f7ca0d6",
   "metadata": {},
   "source": [
    "Para usar el keyspace:"
   ]
  },
  {
   "cell_type": "code",
   "execution_count": null,
   "id": "a620b178",
   "metadata": {},
   "outputs": [],
   "source": [
    "use lab1"
   ]
  },
  {
   "cell_type": "markdown",
   "id": "578ebaed",
   "metadata": {},
   "source": [
    "Para subir el dataset, se usa:"
   ]
  },
  {
   "cell_type": "code",
   "execution_count": null,
   "id": "924a14cf",
   "metadata": {},
   "outputs": [],
   "source": [
    "docker cp <archivo.csv> nodo1:/<archivo.csv>\n",
    "docker cp postulaciones.xlsx nodo1:/postulaciones.xlsx"
   ]
  },
  {
   "cell_type": "markdown",
   "id": "bbfa512f",
   "metadata": {},
   "source": [
    "Ahora, se procede a crear la tabla de postulaciones:"
   ]
  },
  {
   "cell_type": "code",
   "execution_count": null,
   "id": "b5166b0f",
   "metadata": {},
   "outputs": [],
   "source": [
    "CREATE TABLE primera(\n",
    "    CEDULA text,\n",
    "    PERIODO int,\n",
    "    SEXO text,\n",
    "    PREFERENCIA int,\n",
    "    CARRERA text,\n",
    "    ESTADO text,\n",
    "    FACULTAD text,\n",
    "    GRUPO_DEPEN text,\n",
    "    REGION text,\n",
    "    PACE text,\n",
    "    GRATUIDAD text,\n",
    "    PUNTAJE int,\n",
    "    LATITUD float,\n",
    "    LONGITUD float,\n",
    "    PTJE_NEM int,\n",
    "    PSU_PROMLM int,\n",
    "    PRIMARY KEY ((CARRERA, ESTADO), PERIODO, CEDULA)\n",
    ")\n",
    "\n",
    "CREATE TABLE segunda(\n",
    "    CEDULA text,\n",
    "    PERIODO int,\n",
    "    SEXO text,\n",
    "    PREFERENCIA int,\n",
    "    CARRERA text,\n",
    "    ESTADO text,\n",
    "    FACULTAD text,\n",
    "    GRUPO_DEPEN text,\n",
    "    REGION text,\n",
    "    PACE text,\n",
    "    GRATUIDAD text,\n",
    "    PUNTAJE int,\n",
    "    LATITUD float,\n",
    "    LONGITUD float,\n",
    "    PTJE_NEM int,\n",
    "    PSU_PROMLM int,\n",
    "    PRIMARY KEY ((REGION, CARRERA, ESTADO), PERIODO, CEDULA)\n",
    ")\n",
    "\n",
    "CREATE TABLE tercera(\n",
    "    CEDULA text,\n",
    "    PERIODO int,\n",
    "    SEXO text,\n",
    "    PREFERENCIA int,\n",
    "    CARRERA text,\n",
    "    ESTADO text,\n",
    "    FACULTAD text,\n",
    "    GRUPO_DEPEN text,\n",
    "    REGION text,\n",
    "    PACE text,\n",
    "    GRATUIDAD text,\n",
    "    PUNTAJE int,\n",
    "    LATITUD float,\n",
    "    LONGITUD float,\n",
    "    PTJE_NEM int,\n",
    "    PSU_PROMLM int,\n",
    "    PRIMARY KEY ((FACULTAD, ESTADO), PSU_PROMLM, CEDULA)\n",
    ")   "
   ]
  },
  {
   "cell_type": "markdown",
   "id": "ce5f6e3a",
   "metadata": {},
   "source": [
    "Para poblar la tabla usamos (HAY QUE VER EL TEMA DEL DELIMETER):"
   ]
  },
  {
   "cell_type": "code",
   "execution_count": null,
   "id": "c41bef3e",
   "metadata": {},
   "outputs": [],
   "source": [
    "COPY primera(CEDULA, PERIODO, SEXO, PREFERENCIA, CARRERA, ESTADO, FACULTAD, GRUPO_DEPEN, REGION, PACE, GRATUIDAD, PUNTAJE, LATITUD, LONGITUD, PTJE_NEM, PSU_PROMLM) FROM '<archivo.csv>' WITH DELIMITER= '_' AND HEADER = TRUE;\n",
    "COPY segunda(CEDULA, PERIODO, SEXO, PREFERENCIA, CARRERA, ESTADO, FACULTAD, GRUPO_DEPEN, REGION, PACE, GRATUIDAD, PUNTAJE, LATITUD, LONGITUD, PTJE_NEM, PSU_PROMLM) FROM '<archivo.csv>' WITH DELIMITER= '_' AND HEADER = TRUE;\n",
    "COPY tercera(CEDULA, PERIODO, SEXO, PREFERENCIA, CARRERA, ESTADO, FACULTAD, GRUPO_DEPEN, REGION, PACE, GRATUIDAD, PUNTAJE, LATITUD, LONGITUD, PTJE_NEM, PSU_PROMLM) FROM '<archivo.csv>' WITH DELIMITER= '_' AND HEADER = TRUE;"
   ]
  },
  {
   "cell_type": "markdown",
   "id": "cf098bfa",
   "metadata": {},
   "source": [
    "Ahora comenzamos a realizar las querys:"
   ]
  }
 ],
 "metadata": {
  "language_info": {
   "name": "python"
  }
 },
 "nbformat": 4,
 "nbformat_minor": 5
}
